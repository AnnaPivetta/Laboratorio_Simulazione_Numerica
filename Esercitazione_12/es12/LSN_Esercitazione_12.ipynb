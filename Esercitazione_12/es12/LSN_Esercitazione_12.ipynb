{
 "cells": [
  {
   "cell_type": "markdown",
   "metadata": {},
   "source": [
    "# <span style=\"color:#900C3F\"> Laboratorio di Simulazione Numerica</span>"
   ]
  },
  {
   "cell_type": "markdown",
   "metadata": {},
   "source": [
    "# <span style=\"color: #C70039 \"> Esercitazione 12</span>"
   ]
  },
  {
   "cell_type": "markdown",
   "metadata": {},
   "source": [
    "Durante questa esercitazione ho provato a usare DNN (presenti in Keras) per scrivere e allenare reti capaci di riconoscere immagini."
   ]
  },
  {
   "cell_type": "markdown",
   "metadata": {},
   "source": [
    "### <span style=\"color: #FF5733 \"> Esercizio 12.1</span>"
   ]
  },
  {
   "cell_type": "markdown",
   "metadata": {},
   "source": [
    "L'esercizio chiedeva semplicemente di provare ad allenare e testare la rete già fornitaci, provano a cambiare l'ottimizzatore. Ho prima tenuto quello poposto SGD: di seguito il risultato ottenuto (il modello è salvato su file, per evitare di doverlo riallenare - operazione che richiede del tempo - per vederne i risultati)"
   ]
  },
  {
   "cell_type": "code",
   "execution_count": 1,
   "metadata": {},
   "outputs": [
    {
     "name": "stderr",
     "output_type": "stream",
     "text": [
      "Using TensorFlow backend.\n"
     ]
    }
   ],
   "source": [
    "import tensorflow as tf\n",
    "from tensorflow import keras\n",
    "import os\n",
    "import numpy as np\n",
    "import matplotlib.pyplot as plt\n",
    "from keras.models import Sequential\n",
    "from keras.layers import Dense, Dropout\n",
    "from tensorflow.keras.models import load_model\n",
    "seed=0\n",
    "np.random.seed(seed) # fix random seed\n",
    "tf.set_random_seed(seed)"
   ]
  },
  {
   "cell_type": "code",
   "execution_count": 2,
   "metadata": {},
   "outputs": [],
   "source": [
    "from keras.datasets import mnist\n",
    "# input image dimensions\n",
    "img_rows, img_cols = 28, 28 # number of pixels \n",
    "# output\n",
    "num_classes = 10 # 10 digits\n",
    "# the data, split between train and test sets\n",
    "(X_train, Y_train), (X_test, Y_test) = mnist.load_data()"
   ]
  },
  {
   "cell_type": "code",
   "execution_count": 3,
   "metadata": {},
   "outputs": [],
   "source": [
    "# reshape data, it could depend on Keras backend\n",
    "X_test = X_test.reshape(X_test.shape[0], img_rows*img_cols)\n",
    "# cast floats to single precesion\n",
    "X_test = X_test.astype('float32')\n",
    "# rescale data in interval [0,1]\n",
    "X_test /= 255\n",
    "Y_test = keras.utils.to_categorical(Y_test, num_classes)\n"
   ]
  },
  {
   "cell_type": "code",
   "execution_count": 4,
   "metadata": {},
   "outputs": [
    {
     "name": "stdout",
     "output_type": "stream",
     "text": [
      "WARNING:tensorflow:From /home/anna/Scaricati/intelpython3/lib/python3.6/site-packages/tensorflow/python/ops/resource_variable_ops.py:435: colocate_with (from tensorflow.python.framework.ops) is deprecated and will be removed in a future version.\n",
      "Instructions for updating:\n",
      "Colocations handled automatically by placer.\n",
      "WARNING:tensorflow:From /home/anna/Scaricati/intelpython3/lib/python3.6/site-packages/tensorflow/python/keras/layers/core.py:143: calling dropout (from tensorflow.python.ops.nn_ops) with keep_prob is deprecated and will be removed in a future version.\n",
      "Instructions for updating:\n",
      "Please use `rate` instead of `keep_prob`. Rate should be set to `rate = 1 - keep_prob`.\n",
      "WARNING:tensorflow:From /home/anna/Scaricati/intelpython3/lib/python3.6/site-packages/tensorflow/python/ops/math_ops.py:3066: to_int32 (from tensorflow.python.ops.math_ops) is deprecated and will be removed in a future version.\n",
      "Instructions for updating:\n",
      "Use tf.cast instead.\n",
      "10000/10000 [==============================] - 2s 169us/sample - loss: 0.1542 - acc: 0.9535\n",
      "\n",
      "Test loss: 0.15419677670523524\n",
      "Test accuracy: 0.9535\n"
     ]
    }
   ],
   "source": [
    "model_DNN=load_model(\"Modelli_1/Modello_1.mod\")\n",
    "# evaluate model\n",
    "score = model_DNN.evaluate(X_test, Y_test, verbose=1)\n",
    "\n",
    "# print performance\n",
    "print()\n",
    "print('Test loss:', score[0])\n",
    "print('Test accuracy:', score[1])"
   ]
  },
  {
   "cell_type": "code",
   "execution_count": 34,
   "metadata": {},
   "outputs": [
    {
     "data": {
      "image/png": "[encoded data removed]",
      "text/plain": [
       "<Figure size 1080x1080 with 10 Axes>"
      ]
     },
     "metadata": {},
     "output_type": "display_data"
    }
   ],
   "source": [
    "#X_test = X_test.reshape(X_test.shape[0], img_rows*img_cols)\n",
    "predictions = model_DNN.predict(X_test)\n",
    "\n",
    "X_test = X_test.reshape(X_test.shape[0], img_rows, img_cols,1)\n",
    "\n",
    "plt.figure(figsize=(15, 15)) \n",
    "for i in range(10):    \n",
    "    ax = plt.subplot(2, 10, i + 1)    \n",
    "    plt.imshow(X_test[i, :, :, 0], cmap='gray')    \n",
    "    plt.title(\"Digit: {}\\nPredicted:    {}\".format(np.argmax(Y_test[i]), np.argmax(predictions[i])))    \n",
    "    plt.axis('off') \n",
    "plt.show()"
   ]
  },
  {
   "cell_type": "markdown",
   "metadata": {},
   "source": [
    "Ho poi provato l'ottimizzatore Adagrad:"
   ]
  },
  {
   "cell_type": "code",
   "execution_count": 35,
   "metadata": {},
   "outputs": [],
   "source": [
    "(X_train, Y_train), (X_test, Y_test) = mnist.load_data()\n",
    "X_test = X_test.reshape(X_test.shape[0], img_rows*img_cols)\n",
    "X_test = X_test.astype('float32')\n",
    "X_test /= 255\n",
    "Y_test = keras.utils.to_categorical(Y_test, num_classes)"
   ]
  },
  {
   "cell_type": "code",
   "execution_count": 16,
   "metadata": {},
   "outputs": [
    {
     "name": "stdout",
     "output_type": "stream",
     "text": [
      "10000/10000 [==============================] - 1s 133us/sample - loss: 0.0723 - acc: 0.9779\n",
      "\n",
      "Test loss: 0.07225888546677306\n",
      "Test accuracy: 0.9779\n"
     ]
    }
   ],
   "source": [
    "model_DNN=load_model(\"Modelli_1/Modello_2.mod\")\n",
    "# evaluate model\n",
    "score = model_DNN.evaluate(X_test, Y_test, verbose=1)\n",
    "\n",
    "# print performance\n",
    "print()\n",
    "print('Test loss:', score[0])\n",
    "print('Test accuracy:', score[1])"
   ]
  },
  {
   "cell_type": "code",
   "execution_count": 17,
   "metadata": {},
   "outputs": [
    {
     "data": {
      "image/png": "[encoded data removed]",
      "text/plain": [
       "<Figure size 1080x1080 with 10 Axes>"
      ]
     },
     "metadata": {},
     "output_type": "display_data"
    }
   ],
   "source": [
    "#X_test = X_test.reshape(X_test.shape[0], img_rows*img_cols)\n",
    "predictions = model_DNN.predict(X_test)\n",
    "\n",
    "X_test = X_test.reshape(X_test.shape[0], img_rows, img_cols,1)\n",
    "\n",
    "plt.figure(figsize=(15, 15)) \n",
    "for i in range(10):    \n",
    "    ax = plt.subplot(2, 10, i + 1)    \n",
    "    plt.imshow(X_test[i, :, :, 0], cmap='gray')    \n",
    "    plt.title(\"Digit: {}\\nPredicted:    {}\".format(np.argmax(Y_test[i]), np.argmax(predictions[i])))    \n",
    "    plt.axis('off') \n",
    "plt.show()"
   ]
  },
  {
   "cell_type": "markdown",
   "metadata": {},
   "source": [
    "Ho poi provato l'ottimizzatore Adadelta:"
   ]
  },
  {
   "cell_type": "code",
   "execution_count": 21,
   "metadata": {},
   "outputs": [],
   "source": [
    "(X_train, Y_train), (X_test, Y_test) = mnist.load_data()\n",
    "X_test = X_test.reshape(X_test.shape[0], img_rows*img_cols)\n",
    "X_test = X_test.astype('float32')\n",
    "X_test /= 255\n",
    "Y_test = keras.utils.to_categorical(Y_test, num_classes)"
   ]
  },
  {
   "cell_type": "code",
   "execution_count": 22,
   "metadata": {},
   "outputs": [
    {
     "name": "stdout",
     "output_type": "stream",
     "text": [
      "10000/10000 [==============================] - 1s 138us/sample - loss: 0.0788 - acc: 0.9786\n",
      "\n",
      "Test loss: 0.07880425748420239\n",
      "Test accuracy: 0.9786\n"
     ]
    }
   ],
   "source": [
    "model_DNN=load_model(\"Modelli_1/Modello_3.mod\")\n",
    "# evaluate model\n",
    "score = model_DNN.evaluate(X_test, Y_test, verbose=1)\n",
    "\n",
    "# print performance\n",
    "print()\n",
    "print('Test loss:', score[0])\n",
    "print('Test accuracy:', score[1])"
   ]
  },
  {
   "cell_type": "code",
   "execution_count": 23,
   "metadata": {},
   "outputs": [
    {
     "data": {
      "image/png": "[encoded data removed]",
      "text/plain": [
       "<Figure size 1080x1080 with 10 Axes>"
      ]
     },
     "metadata": {},
     "output_type": "display_data"
    }
   ],
   "source": [
    "#X_test = X_test.reshape(X_test.shape[0], img_rows*img_cols)\n",
    "predictions = model_DNN.predict(X_test)\n",
    "\n",
    "X_test = X_test.reshape(X_test.shape[0], img_rows, img_cols,1)\n",
    "\n",
    "plt.figure(figsize=(15, 15)) \n",
    "for i in range(10):    \n",
    "    ax = plt.subplot(2, 10, i + 1)    \n",
    "    plt.imshow(X_test[i, :, :, 0], cmap='gray')    \n",
    "    plt.title(\"Digit: {}\\nPredicted:    {}\".format(np.argmax(Y_test[i]), np.argmax(predictions[i])))    \n",
    "    plt.axis('off') \n",
    "plt.show()"
   ]
  },
  {
   "cell_type": "markdown",
   "metadata": {},
   "source": [
    "Ho poi provato l'ottimizzatore Nadam:"
   ]
  },
  {
   "cell_type": "code",
   "execution_count": 29,
   "metadata": {},
   "outputs": [],
   "source": [
    "(X_train, Y_train), (X_test, Y_test) = mnist.load_data()\n",
    "X_test = X_test.reshape(X_test.shape[0], img_rows*img_cols)\n",
    "X_test = X_test.astype('float32')\n",
    "X_test /= 255\n",
    "Y_test = keras.utils.to_categorical(Y_test, num_classes)"
   ]
  },
  {
   "cell_type": "code",
   "execution_count": 31,
   "metadata": {},
   "outputs": [
    {
     "name": "stdout",
     "output_type": "stream",
     "text": [
      "10000/10000 [==============================] - 2s 170us/sample - loss: 0.0966 - acc: 0.9751\n",
      "\n",
      "Test loss: 0.09655087456657056\n",
      "Test accuracy: 0.9751\n"
     ]
    }
   ],
   "source": [
    "model_DNN=load_model(\"Modelli_1/Modello_4.mod\")\n",
    "# evaluate model\n",
    "score = model_DNN.evaluate(X_test, Y_test, verbose=1)\n",
    "\n",
    "# print performance\n",
    "print()\n",
    "print('Test loss:', score[0])\n",
    "print('Test accuracy:', score[1])"
   ]
  },
  {
   "cell_type": "code",
   "execution_count": 32,
   "metadata": {},
   "outputs": [
    {
     "data": {
      "image/png": "[encoded data removed]",
      "text/plain": [
       "<Figure size 1080x1080 with 10 Axes>"
      ]
     },
     "metadata": {},
     "output_type": "display_data"
    }
   ],
   "source": [
    "#X_test = X_test.reshape(X_test.shape[0], img_rows*img_cols)\n",
    "predictions = model_DNN.predict(X_test)\n",
    "\n",
    "X_test = X_test.reshape(X_test.shape[0], img_rows, img_cols,1)\n",
    "\n",
    "plt.figure(figsize=(15, 15)) \n",
    "for i in range(10):    \n",
    "    ax = plt.subplot(2, 10, i + 1)    \n",
    "    plt.imshow(X_test[i, :, :, 0], cmap='gray')    \n",
    "    plt.title(\"Digit: {}\\nPredicted:    {}\".format(np.argmax(Y_test[i]), np.argmax(predictions[i])))    \n",
    "    plt.axis('off') \n",
    "plt.show()"
   ]
  },
  {
   "cell_type": "markdown",
   "metadata": {},
   "source": [
    "Infine, ho provato l'ottimizzatore RMSprop:"
   ]
  },
  {
   "cell_type": "code",
   "execution_count": 22,
   "metadata": {},
   "outputs": [],
   "source": [
    "(X_train, Y_train), (X_test, Y_test) = mnist.load_data()\n",
    "X_test = X_test.reshape(X_test.shape[0], img_rows*img_cols)\n",
    "X_test = X_test.astype('float32')\n",
    "X_test /= 255\n",
    "Y_test = keras.utils.to_categorical(Y_test, num_classes)"
   ]
  },
  {
   "cell_type": "code",
   "execution_count": 34,
   "metadata": {},
   "outputs": [
    {
     "name": "stdout",
     "output_type": "stream",
     "text": [
      "10000/10000 [==============================] - 2s 168us/sample - loss: 0.2208 - acc: 0.9558\n",
      "\n",
      "Test loss: 0.22080205518482462\n",
      "Test accuracy: 0.9558\n"
     ]
    }
   ],
   "source": [
    "model_DNN=load_model(\"Modelli_1/Modello_5.mod\")\n",
    "# evaluate model\n",
    "score = model_DNN.evaluate(X_test, Y_test, verbose=1)\n",
    "\n",
    "# print performance\n",
    "print()\n",
    "print('Test loss:', score[0])\n",
    "print('Test accuracy:', score[1])"
   ]
  },
  {
   "cell_type": "code",
   "execution_count": 35,
   "metadata": {},
   "outputs": [
    {
     "data": {
      "image/png": "[encoded data removed]",
      "text/plain": [
       "<Figure size 1080x1080 with 10 Axes>"
      ]
     },
     "metadata": {},
     "output_type": "display_data"
    }
   ],
   "source": [
    "#X_test = X_test.reshape(X_test.shape[0], img_rows*img_cols)\n",
    "predictions = model_DNN.predict(X_test)\n",
    "\n",
    "X_test = X_test.reshape(X_test.shape[0], img_rows, img_cols,1)\n",
    "\n",
    "plt.figure(figsize=(15, 15)) \n",
    "for i in range(10):    \n",
    "    ax = plt.subplot(2, 10, i + 1)    \n",
    "    plt.imshow(X_test[i, :, :, 0], cmap='gray')    \n",
    "    plt.title(\"Digit: {}\\nPredicted:    {}\".format(np.argmax(Y_test[i]), np.argmax(predictions[i])))    \n",
    "    plt.axis('off') \n",
    "plt.show()"
   ]
  },
  {
   "cell_type": "markdown",
   "metadata": {},
   "source": [
    "L'ottimizzatore che ha portato alla migliore accuracy è Adadelta, che proverò ad usare come ottimizzatore nelle prossime reti che creerò."
   ]
  },
  {
   "cell_type": "markdown",
   "metadata": {},
   "source": [
    "### <span style=\"color: #FF5733 \"> Esercizio 12.2</span>"
   ]
  },
  {
   "cell_type": "markdown",
   "metadata": {},
   "source": [
    "L'esercizio chiedeva di scrivere una CNN capace di riconoscere immagini delle diverse cifre."
   ]
  },
  {
   "cell_type": "code",
   "execution_count": 4,
   "metadata": {},
   "outputs": [],
   "source": [
    "import tensorflow as tf\n",
    "from tensorflow import keras\n",
    "import os\n",
    "import numpy as np\n",
    "import matplotlib.pyplot as plt\n",
    "seed=0\n",
    "np.random.seed(seed) # fix random seed\n",
    "tf.set_random_seed(seed)\n",
    "from keras.datasets import mnist\n",
    "\n",
    "# input image dimensions\n",
    "img_rows, img_cols = 28, 28 # number of pixels \n",
    "# output\n",
    "num_classes = 10 # 10 digits\n",
    "\n",
    "# the data, split between train and test sets\n",
    "(X_train, Y_train), (X_test, Y_test) = mnist.load_data()\n",
    "\n",
    "# reshape data, it could depend on Keras backend\n",
    "X_train = X_train.reshape(X_train.shape[0], img_rows*img_cols)\n",
    "X_test = X_test.reshape(X_test.shape[0], img_rows*img_cols)\n",
    "\n",
    "# cast floats to single precesion\n",
    "X_train = X_train.astype('float32')\n",
    "X_test = X_test.astype('float32')\n",
    "\n",
    "# rescale data in interval [0,1]\n",
    "X_train /= 255\n",
    "X_test /= 255\n",
    "\n",
    "\n",
    "# convert class vectors to binary class matrices, e.g. for use with categorical_crossentropy\n",
    "Y_train = keras.utils.to_categorical(Y_train, num_classes)\n",
    "Y_test = keras.utils.to_categorical(Y_test, num_classes)\n",
    "\n",
    "\n",
    "# Consider an array of 5 labels out of a set of 3 classes {0, 1, 2}:\n",
    "labels = np.array([0, 2, 1, 2, 0])\n",
    "# `to_categorical` converts this into a matrix with as many columns as there are classes.\n",
    "# The number of rows stays the same.\n",
    "keras.utils.to_categorical(labels)\n",
    "from keras.models import Sequential\n",
    "from keras.layers import Dense, Dropout\n",
    "from keras.optimizers import SGD, Adam, RMSprop, Adagrad, Adadelta, Adam, Adamax, Nadam\n",
    "# you will need the following for Convolutional Neural Networks\n",
    "from keras.layers import Flatten, Conv2D, MaxPooling2D\n",
    "\n",
    "# reshape data, depending on Keras backend\n",
    "if keras.backend.image_data_format() == 'channels_first':\n",
    "    X_train = X_train.reshape(X_train.shape[0], 1, img_rows, img_cols)\n",
    "    X_test = X_test.reshape(X_test.shape[0], 1, img_rows, img_cols)\n",
    "    input_shape = (1, img_rows, img_cols)\n",
    "else:\n",
    "    X_train = X_train.reshape(X_train.shape[0], img_rows, img_cols, 1)\n",
    "    X_test = X_test.reshape(X_test.shape[0], img_rows, img_cols, 1)\n",
    "    input_shape = (img_rows, img_cols, 1)\n",
    "    \n"
   ]
  },
  {
   "cell_type": "markdown",
   "metadata": {},
   "source": [
    "**Tentativo 1:** Ho provato a realizzare CNN così strutturata:  \n",
    "- convoluzione2D con 10 filtri, attivazione di tipo relu e KernelSize (3,3)\n",
    "- Un MaxPooling2D con PoolSize (2,2)\n",
    "- convoluzione2D con 70 filtri, attivazione di tipo relu e KernelSize (3,3)\n",
    "- MaxPooling2D con Poolsize (2,2)\n",
    "- Dropout con rate 0,5\n",
    "- convoluzione2D con 30 filtri, attivazione di tipo tanh e KernelSize (3,3)\n",
    "- MaxPooling2D con PoolSize (2,2)\n",
    "- Dense layer con 20 neuroni e attivazione di tipo softmax\n",
    "- Flatten\n",
    "- Dense layer con 10 neuroni e attivazione di tipo softmax  \n",
    "\n",
    "Con ottimizzatore SGD"
   ]
  },
  {
   "cell_type": "code",
   "execution_count": 5,
   "metadata": {},
   "outputs": [
    {
     "name": "stdout",
     "output_type": "stream",
     "text": [
      "WARNING:tensorflow:From /home/anna/Scaricati/intelpython3/lib/python3.6/site-packages/tensorflow/python/ops/resource_variable_ops.py:435: colocate_with (from tensorflow.python.framework.ops) is deprecated and will be removed in a future version.\n",
      "Instructions for updating:\n",
      "Colocations handled automatically by placer.\n",
      "WARNING:tensorflow:From /home/anna/Scaricati/intelpython3/lib/python3.6/site-packages/tensorflow/python/keras/layers/core.py:143: calling dropout (from tensorflow.python.ops.nn_ops) with keep_prob is deprecated and will be removed in a future version.\n",
      "Instructions for updating:\n",
      "Please use `rate` instead of `keep_prob`. Rate should be set to `rate = 1 - keep_prob`.\n",
      "WARNING:tensorflow:From /home/anna/Scaricati/intelpython3/lib/python3.6/site-packages/tensorflow/python/ops/math_ops.py:3066: to_int32 (from tensorflow.python.ops.math_ops) is deprecated and will be removed in a future version.\n",
      "Instructions for updating:\n",
      "Use tf.cast instead.\n",
      "WARNING:tensorflow:From /home/anna/Scaricati/intelpython3/lib/python3.6/site-packages/tensorflow/python/ops/math_grad.py:102: div (from tensorflow.python.ops.math_ops) is deprecated and will be removed in a future version.\n",
      "Instructions for updating:\n",
      "Deprecated in favor of operator or tf.math.divide.\n",
      "10000/10000 [==============================] - 8s 828us/sample - loss: 1.9532 - acc: 0.3750\n",
      "\n",
      "Test loss: 1.953177500152588\n",
      "Test accuracy: 0.375\n"
     ]
    }
   ],
   "source": [
    "#modello 1\n",
    "model_CNN=load_model(\"Modelli_2/Modello_1.mod\")\n",
    "score = model_CNN.evaluate(X_test, Y_test, verbose=1)\n",
    "# print performance\n",
    "print()\n",
    "print('Test loss:', score[0])\n",
    "print('Test accuracy:', score[1])\n"
   ]
  },
  {
   "cell_type": "code",
   "execution_count": 6,
   "metadata": {},
   "outputs": [
    {
     "data": {
      "image/png": "[encoded data removed]",
      "text/plain": [
       "<Figure size 1080x1080 with 10 Axes>"
      ]
     },
     "metadata": {},
     "output_type": "display_data"
    }
   ],
   "source": [
    "predictions = model_CNN.predict(X_test)\n",
    "plt.figure(figsize=(15, 15)) \n",
    "for i in range(10):    \n",
    "    ax = plt.subplot(2, 10, i + 1)    \n",
    "    plt.imshow(X_test[i, :, :, 0], cmap='gray')    \n",
    "    plt.title(\"Digit: {}\\nPredicted:    {}\".format(np.argmax(Y_test[i]), np.argmax(predictions[i])))    \n",
    "    plt.axis('off') \n",
    "plt.show()"
   ]
  },
  {
   "cell_type": "markdown",
   "metadata": {},
   "source": [
    "**Tentativo 2:** Ho aumentato i filtri della convoluzione e ho modificato un'attivazione. Ho tenuto come l'ottimizzatore SGD e realizzato CNN così strutturata:  \n",
    "- convoluzione2D con 10 filtri, attivazione di tipo relu e KernelSize (3,3)\n",
    "- Un MaxPooling2D con PoolSize (2,2)\n",
    "- convoluzione2D con 100 filtri, attivazione di tipo tanh e KernelSize (3,3)\n",
    "- MaxPooling2D con Poolsize (2,2)\n",
    "- Dropout con rate 0,5\n",
    "- convoluzione2D con 30 filtri, attivazione di tipo tanh e KernelSize (3,3)\n",
    "- MaxPooling2D con PoolSize (2,2)\n",
    "- Dense layer con 20 neuroni e attivazione di tipo softmax\n",
    "- Flatten\n",
    "- Dense layer con 10 neuroni e attivazione di tipo softmax"
   ]
  },
  {
   "cell_type": "code",
   "execution_count": 7,
   "metadata": {},
   "outputs": [
    {
     "name": "stdout",
     "output_type": "stream",
     "text": [
      "10000/10000 [==============================] - 6s 622us/sample - loss: 1.7131 - acc: 0.3154\n",
      "\n",
      "Test loss: 1.7131093147277832\n",
      "Test accuracy: 0.3154\n"
     ]
    }
   ],
   "source": [
    "#modello 2\n",
    "model_CNN=load_model(\"Modelli_2/Modello_2.mod\")\n",
    "score = model_CNN.evaluate(X_test, Y_test, verbose=1)\n",
    "# print performance\n",
    "print()\n",
    "print('Test loss:', score[0])\n",
    "print('Test accuracy:', score[1])\n"
   ]
  },
  {
   "cell_type": "code",
   "execution_count": 8,
   "metadata": {},
   "outputs": [
    {
     "data": {
      "image/png": "[encoded data removed]",
      "text/plain": [
       "<Figure size 1080x1080 with 10 Axes>"
      ]
     },
     "metadata": {},
     "output_type": "display_data"
    }
   ],
   "source": [
    "predictions = model_CNN.predict(X_test)\n",
    "plt.figure(figsize=(15, 15)) \n",
    "for i in range(10):    \n",
    "    ax = plt.subplot(2, 10, i + 1)    \n",
    "    plt.imshow(X_test[i, :, :, 0], cmap='gray')    \n",
    "    plt.title(\"Digit: {}\\nPredicted:    {}\".format(np.argmax(Y_test[i]), np.argmax(predictions[i])))    \n",
    "    plt.axis('off') \n",
    "plt.show()"
   ]
  },
  {
   "cell_type": "markdown",
   "metadata": {},
   "source": [
    "**Tentativo 3:** Ho modificato solo un'attivazione e tenuto costante il numero di filtri:  \n",
    "- convoluzione2D con 10 filtri, attivazione di tipo relu e KernelSize (3,3)\n",
    "- Un MaxPooling2D con PoolSize (2,2)\n",
    "- convoluzione2D con 100 filtri, attivazione di tipo relu e KernelSize (3,3)\n",
    "- MaxPooling2D con Poolsize (2,2)\n",
    "- Dropout con rate 0,5\n",
    "- convoluzione2D con 30 filtri, attivazione di tipo tanh e KernelSize (3,3)\n",
    "- MaxPooling2D con PoolSize (2,2)\n",
    "- Dense layer con 20 neuroni e attivazione di tipo softmax\n",
    "- Flatten\n",
    "- Dense layer con 10 neuroni e attivazione di tipo softmax  \n",
    "\n",
    "Intuisco che aumentare in modo esagerato i numero di parametri che la rete deve ottimizzare non migliora il risultato, quindi quando aumenterò il numero di filtri lo farò nei primi layer, perchè aumentare i filtri negli ultimi layer fa crescere di molto il numero di parametri da ottimizzare"
   ]
  },
  {
   "cell_type": "code",
   "execution_count": 17,
   "metadata": {},
   "outputs": [
    {
     "name": "stdout",
     "output_type": "stream",
     "text": [
      "10000/10000 [==============================] - 6s 582us/sample - loss: 1.6766 - acc: 0.4086\n",
      "\n",
      "Test loss: 1.6766499725341797\n",
      "Test accuracy: 0.4086\n",
      "_________________________________________________________________\n",
      "Layer (type)                 Output Shape              Param #   \n",
      "=================================================================\n",
      "conv2d_31 (Conv2D)           (None, 24, 24, 10)        260       \n",
      "_________________________________________________________________\n",
      "max_pooling2d_31 (MaxPooling (None, 12, 12, 10)        0         \n",
      "_________________________________________________________________\n",
      "conv2d_32 (Conv2D)           (None, 10, 10, 100)       9100      \n",
      "_________________________________________________________________\n",
      "max_pooling2d_32 (MaxPooling (None, 5, 5, 100)         0         \n",
      "_________________________________________________________________\n",
      "dropout_11 (Dropout)         (None, 5, 5, 100)         0         \n",
      "_________________________________________________________________\n",
      "conv2d_33 (Conv2D)           (None, 3, 3, 30)          27030     \n",
      "_________________________________________________________________\n",
      "max_pooling2d_33 (MaxPooling (None, 1, 1, 30)          0         \n",
      "_________________________________________________________________\n",
      "dense_20 (Dense)             (None, 1, 1, 20)          620       \n",
      "_________________________________________________________________\n",
      "flatten_11 (Flatten)         (None, 20)                0         \n",
      "_________________________________________________________________\n",
      "dense_21 (Dense)             (None, 10)                210       \n",
      "=================================================================\n",
      "Total params: 37,220\n",
      "Trainable params: 37,220\n",
      "Non-trainable params: 0\n",
      "_________________________________________________________________\n"
     ]
    }
   ],
   "source": [
    "#modello 3\n",
    "model_CNN=load_model(\"Modelli_2/Modello_3.mod\")\n",
    "score = model_CNN.evaluate(X_test, Y_test, verbose=1)\n",
    "# print performance\n",
    "print()\n",
    "print('Test loss:', score[0])\n",
    "print('Test accuracy:', score[1])"
   ]
  },
  {
   "cell_type": "code",
   "execution_count": 10,
   "metadata": {},
   "outputs": [
    {
     "data": {
      "image/png": "[encoded data removed]",
      "text/plain": [
       "<Figure size 1080x1080 with 10 Axes>"
      ]
     },
     "metadata": {},
     "output_type": "display_data"
    }
   ],
   "source": [
    "predictions = model_CNN.predict(X_test)\n",
    "plt.figure(figsize=(15, 15)) \n",
    "for i in range(10):    \n",
    "    ax = plt.subplot(2, 10, i + 1)    \n",
    "    plt.imshow(X_test[i, :, :, 0], cmap='gray')    \n",
    "    plt.title(\"Digit: {}\\nPredicted:    {}\".format(np.argmax(Y_test[i]), np.argmax(predictions[i])))    \n",
    "    plt.axis('off') \n",
    "plt.show()"
   ]
  },
  {
   "cell_type": "markdown",
   "metadata": {},
   "source": [
    "**Tentativo 4:** Ho provato a realizzare CNN aumentando il numero di filtri nella seconda convoluzione e cambiando due attivazioni (facendo anche altri tentativi ho capito che layer densi con attivazione tanh non sono adatti al riconoscimento delle immagini). Ho inoltre usato l'ottimizzatore Adadelta (che nell'esercizio precedente avevo capito essere il migliore tra quelli che avevo testato) e ho realizzato la seguente rete:  \n",
    "- convoluzione2D con 10 filtri, attivazione di tipo relu e KernelSize (3,3)\n",
    "- Un MaxPooling2D con PoolSize (2,2)\n",
    "- convoluzione2D con 120 filtri, attivazione di tipo relu e KernelSize (3,3)\n",
    "- MaxPooling2D con Poolsize (2,2)\n",
    "- Dropout con rate 0,5\n",
    "- convoluzione2D con 20 filtri, attivazione di tipo relu e KernelSize (3,3)\n",
    "- MaxPooling2D con PoolSize (2,2)\n",
    "- Dense layer con 20 neuroni e attivazione di tipo sigmoid\n",
    "- Flatten\n",
    "- Dense layer con 10 neuroni e attivazione di tipo softmax"
   ]
  },
  {
   "cell_type": "code",
   "execution_count": 11,
   "metadata": {},
   "outputs": [
    {
     "name": "stdout",
     "output_type": "stream",
     "text": [
      "10000/10000 [==============================] - 5s 453us/sample - loss: 0.3775 - acc: 0.8968\n",
      "\n",
      "Test loss: 0.377484609746933\n",
      "Test accuracy: 0.8968\n"
     ]
    }
   ],
   "source": [
    "#modello 4\n",
    "model_CNN=load_model(\"Modelli_2/Modello_4.mod\")\n",
    "score = model_CNN.evaluate(X_test, Y_test, verbose=1)\n",
    "# print performance\n",
    "print()\n",
    "print('Test loss:', score[0])\n",
    "print('Test accuracy:', score[1])\n"
   ]
  },
  {
   "cell_type": "code",
   "execution_count": 12,
   "metadata": {},
   "outputs": [
    {
     "data": {
      "image/png": "[encoded data removed]",
      "text/plain": [
       "<Figure size 1080x1080 with 10 Axes>"
      ]
     },
     "metadata": {},
     "output_type": "display_data"
    }
   ],
   "source": [
    "predictions = model_CNN.predict(X_test)\n",
    "plt.figure(figsize=(15, 15)) \n",
    "for i in range(10):    \n",
    "    ax = plt.subplot(2, 10, i + 1)    \n",
    "    plt.imshow(X_test[i, :, :, 0], cmap='gray')    \n",
    "    plt.title(\"Digit: {}\\nPredicted:    {}\".format(np.argmax(Y_test[i]), np.argmax(predictions[i])))    \n",
    "    plt.axis('off') \n",
    "plt.show()"
   ]
  },
  {
   "cell_type": "markdown",
   "metadata": {},
   "source": [
    "**Tentativo 5:** Ho aumentato il numero di filtri della seconda convoluzione a 150, tenuto l'ottimizzatore Adadelta e, visto che il riusltato del tentativo 4 era buono e la rete non aveva smesso di imparare, ho aggiunto un'epoca. La rete che ho realizzato è quindi così strutturata:  \n",
    "- convoluzione2D con 10 filtri, attivazione di tipo relu e KernelSize (3,3)\n",
    "- Un MaxPooling2D con PoolSize (2,2)\n",
    "- convoluzione2D con 150 filtri, attivazione di tipo relu e KernelSize (3,3)\n",
    "- MaxPooling2D con Poolsize (2,2)\n",
    "- Dropout con rate 0,5\n",
    "- convoluzione2D con 20 filtri, attivazione di tipo relu e KernelSize (3,3)\n",
    "- MaxPooling2D con PoolSize (2,2)\n",
    "- Dense layer con 20 neuroni e attivazione di tipo sigmoid\n",
    "- Flatten\n",
    "- Dense layer con 10 neuroni e attivazione di tipo softmax"
   ]
  },
  {
   "cell_type": "code",
   "execution_count": 13,
   "metadata": {},
   "outputs": [
    {
     "name": "stdout",
     "output_type": "stream",
     "text": [
      "10000/10000 [==============================] - 8s 831us/sample - loss: 0.3203 - acc: 0.9050\n",
      "\n",
      "Test loss: 0.32032432547807693\n",
      "Test accuracy: 0.905\n"
     ]
    }
   ],
   "source": [
    "#modello 5\n",
    "model_CNN=load_model(\"Modelli_2/Modello_5.mod\")\n",
    "score = model_CNN.evaluate(X_test, Y_test, verbose=1)\n",
    "# print performance\n",
    "print()\n",
    "print('Test loss:', score[0])\n",
    "print('Test accuracy:', score[1])\n"
   ]
  },
  {
   "cell_type": "code",
   "execution_count": 14,
   "metadata": {},
   "outputs": [
    {
     "data": {
      "image/png": "[encoded data removed]",
      "text/plain": [
       "<Figure size 1080x1080 with 10 Axes>"
      ]
     },
     "metadata": {},
     "output_type": "display_data"
    }
   ],
   "source": [
    "predictions = model_CNN.predict(X_test)\n",
    "plt.figure(figsize=(15, 15)) \n",
    "for i in range(10):    \n",
    "    ax = plt.subplot(2, 10, i + 1)    \n",
    "    plt.imshow(X_test[i, :, :, 0], cmap='gray')    \n",
    "    plt.title(\"Digit: {}\\nPredicted:    {}\".format(np.argmax(Y_test[i]), np.argmax(predictions[i])))    \n",
    "    plt.axis('off') \n",
    "plt.show()"
   ]
  },
  {
   "cell_type": "markdown",
   "metadata": {},
   "source": [
    "**Tentativo 6:** Ho usato una struttura identica a quella del tentaivo 5, ma, visto che il risultato era buono e la rete non aveva smesso di imparare, ho portato a 10 il numero delle epoche"
   ]
  },
  {
   "cell_type": "code",
   "execution_count": 31,
   "metadata": {},
   "outputs": [
    {
     "name": "stdout",
     "output_type": "stream",
     "text": [
      "10000/10000 [==============================] - 7s 681us/sample - loss: 0.2714 - acc: 0.9229\n",
      "\n",
      "Test loss: 0.27138893897533417\n",
      "Test accuracy: 0.9229\n"
     ]
    }
   ],
   "source": [
    "#modello 6\n",
    "model_CNN=load_model(\"Modelli_2/Modello_6.mod\")\n",
    "score = model_CNN.evaluate(X_test, Y_test, verbose=1)\n",
    "# print performance\n",
    "print()\n",
    "print('Test loss:', score[0])\n",
    "print('Test accuracy:', score[1])\n"
   ]
  },
  {
   "cell_type": "code",
   "execution_count": 32,
   "metadata": {},
   "outputs": [
    {
     "data": {
      "image/png": "[encoded data removed]",
      "text/plain": [
       "<Figure size 1080x1080 with 10 Axes>"
      ]
     },
     "metadata": {},
     "output_type": "display_data"
    }
   ],
   "source": [
    "predictions = model_CNN.predict(X_test)\n",
    "plt.figure(figsize=(15, 15)) \n",
    "for i in range(10):    \n",
    "    ax = plt.subplot(2, 10, i + 1)    \n",
    "    plt.imshow(X_test[i, :, :, 0], cmap='gray')    \n",
    "    plt.title(\"Digit: {}\\nPredicted:    {}\".format(np.argmax(Y_test[i]), np.argmax(predictions[i])))    \n",
    "    plt.axis('off') \n",
    "plt.show()"
   ]
  },
  {
   "cell_type": "markdown",
   "metadata": {},
   "source": [
    "In generale ho intuito che per il riconoscimento di immagini giocano un ruolo importante la convoluzione eil MaxPooling e che è conveniente (piuttosto che fare molti layer) fare layer di convoluzione con molti filtri e una voltre trovata una rete che da dei buoni risultati allenarla per un buon numero di epoche."
   ]
  },
  {
   "cell_type": "markdown",
   "metadata": {},
   "source": [
    "### <span style=\"color: #FF5733 \"> Esercizio 12.3</span>"
   ]
  },
  {
   "cell_type": "markdown",
   "metadata": {},
   "source": [
    "Ho creato le immagini delle nove cifre tramite GIMP e ho testato la rete tentativo sei dell'esercizio precedente. Di seguito i risultato ottenuti"
   ]
  },
  {
   "cell_type": "code",
   "execution_count": 45,
   "metadata": {},
   "outputs": [
    {
     "name": "stdout",
     "output_type": "stream",
     "text": [
      "Image size: 28x28\n"
     ]
    }
   ],
   "source": [
    "from PIL import Image\n",
    "import os\n",
    "\n",
    "digit_filename = \"Immagini/zero.png\"\n",
    "digit_in = Image.open(digit_filename).convert('L')\n",
    "\n",
    "ydim, xdim = digit_in.size\n",
    "print(\"Image size: \"+str(xdim)+\"x\"+str(ydim))\n",
    "pix=digit_in.load();\n",
    "data = np.zeros((10,xdim, ydim))\n",
    "for j in range(ydim):\n",
    "    for i in range(xdim):\n",
    "        data[0,i,j]=pix[j,i]/255\n",
    "        \n",
    "digit_filename = \"Immagini/uno.png\"\n",
    "digit_in = Image.open(digit_filename).convert('L')\n",
    "pix=digit_in.load();\n",
    "for j in range(ydim):\n",
    "    for i in range(xdim):\n",
    "        data[1,i,j]=pix[j,i]/255\n",
    "        \n",
    "digit_filename = \"Immagini/due.png\"\n",
    "digit_in = Image.open(digit_filename).convert('L')\n",
    "pix=digit_in.load();\n",
    "for j in range(ydim):\n",
    "    for i in range(xdim):\n",
    "        data[2,i,j]=pix[j,i]/255\n",
    "        \n",
    "digit_filename = \"Immagini/tre.png\"\n",
    "digit_in = Image.open(digit_filename).convert('L')\n",
    "pix=digit_in.load();\n",
    "for j in range(ydim):\n",
    "    for i in range(xdim):\n",
    "        data[3,i,j]=pix[j,i]/255\n",
    "\n",
    "        \n",
    "digit_filename = \"Immagini/quattro.png\"\n",
    "digit_in = Image.open(digit_filename).convert('L')\n",
    "pix=digit_in.load();\n",
    "for j in range(ydim):\n",
    "    for i in range(xdim):\n",
    "        data[4,i,j]=pix[j,i]/255\n",
    "        \n",
    "digit_filename = \"Immagini/cinque.png\"\n",
    "digit_in = Image.open(digit_filename).convert('L')\n",
    "pix=digit_in.load();\n",
    "for j in range(ydim):\n",
    "    for i in range(xdim):\n",
    "        data[5,i,j]=pix[j,i]/255\n",
    "        \n",
    "digit_filename = \"Immagini/sei.png\"\n",
    "digit_in = Image.open(digit_filename).convert('L')\n",
    "pix=digit_in.load();\n",
    "for j in range(ydim):\n",
    "    for i in range(xdim):\n",
    "        data[6,i,j]=pix[j,i]/255\n",
    "        \n",
    "digit_filename = \"Immagini/sette.png\"\n",
    "digit_in = Image.open(digit_filename).convert('L')\n",
    "pix=digit_in.load();\n",
    "for j in range(ydim):\n",
    "    for i in range(xdim):\n",
    "        data[7,i,j]=pix[j,i]/255\n",
    "        \n",
    "digit_filename = \"Immagini/otto.png\"\n",
    "digit_in = Image.open(digit_filename).convert('L')\n",
    "pix=digit_in.load();\n",
    "for j in range(ydim):\n",
    "    for i in range(xdim):\n",
    "        data[8,i,j]=pix[j,i]/255\n",
    "        \n",
    "digit_filename = \"Immagini/nove.png\"\n",
    "digit_in = Image.open(digit_filename).convert('L')\n",
    "pix=digit_in.load();\n",
    "for j in range(ydim):\n",
    "    for i in range(xdim):\n",
    "        data[9,i,j]=pix[j,i]/255"
   ]
  },
  {
   "cell_type": "code",
   "execution_count": 46,
   "metadata": {},
   "outputs": [],
   "source": [
    "if keras.backend.image_data_format() == 'channels_first':\n",
    "    data = data.reshape(data.shape[0], 1, img_rows, img_cols)\n",
    "    input_shape = (1, img_rows, img_cols)\n",
    "else:\n",
    "    data = data.reshape(data.shape[0], img_rows, img_cols, 1)\n",
    "    input_shape = (img_rows, img_cols, 1)\n",
    "   "
   ]
  },
  {
   "cell_type": "code",
   "execution_count": 47,
   "metadata": {},
   "outputs": [
    {
     "data": {
      "image/png": "[encoded data removed]",
      "text/plain": [
       "<Figure size 1080x1080 with 10 Axes>"
      ]
     },
     "metadata": {},
     "output_type": "display_data"
    }
   ],
   "source": [
    "predictions = model_CNN.predict(data)\n",
    "plt.figure(figsize=(15, 15)) \n",
    "for i in range(10):    \n",
    "    ax = plt.subplot(2, 10, i + 1)    \n",
    "    plt.imshow(data[i, :, :, 0], cmap='gray')    \n",
    "    plt.title(\"Predicted: {}\".format(np.argmax(predictions[i])))    \n",
    "    plt.axis('off') \n",
    "plt.show()"
   ]
  }
 ],
 "metadata": {
  "kernelspec": {
   "display_name": "Python 3",
   "language": "python",
   "name": "python3"
  },
  "language_info": {
   "codemirror_mode": {
    "name": "ipython",
    "version": 3
   },
   "file_extension": ".py",
   "mimetype": "text/x-python",
   "name": "python",
   "nbconvert_exporter": "python",
   "pygments_lexer": "ipython3",
   "version": "3.6.5"
  }
 },
 "nbformat": 4,
 "nbformat_minor": 2
}
